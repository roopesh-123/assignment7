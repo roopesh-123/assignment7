{
  "nbformat": 4,
  "nbformat_minor": 0,
  "metadata": {
    "colab": {
      "name": "a7identitymatrix",
      "provenance": []
    },
    "kernelspec": {
      "name": "python3",
      "display_name": "Python 3"
    }
  },
  "cells": [
    {
      "cell_type": "code",
      "metadata": {
        "id": "YL1cWjb7H5Ef",
        "colab_type": "code",
        "colab": {
          "base_uri": "https://localhost:8080/",
          "height": 102
        },
        "outputId": "2339d3f9-1b72-471f-837f-6c4c551d97af"
      },
      "source": [
        "n=int(input(\"enter a number\"))\n",
        "for i in range(0,n):\n",
        "  for j in range(0,n):\n",
        "    if (i==j):\n",
        "      print(\"1\",sep=\" \",end=\" \")\n",
        "    else:\n",
        "      print(\"0\",sep=\" \",end=\" \")  \n",
        "  print()    "
      ],
      "execution_count": 3,
      "outputs": [
        {
          "output_type": "stream",
          "text": [
            "enter a number4\n",
            "1 0 0 0 \n",
            "0 1 0 0 \n",
            "0 0 1 0 \n",
            "0 0 0 1 \n"
          ],
          "name": "stdout"
        }
      ]
    },
    {
      "cell_type": "code",
      "metadata": {
        "id": "VKye9CEaI5y0",
        "colab_type": "code",
        "colab": {}
      },
      "source": [
        ""
      ],
      "execution_count": null,
      "outputs": []
    }
  ]
}