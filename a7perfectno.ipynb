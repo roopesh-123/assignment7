{
  "nbformat": 4,
  "nbformat_minor": 0,
  "metadata": {
    "colab": {
      "name": "a7perfectno",
      "provenance": []
    },
    "kernelspec": {
      "name": "python3",
      "display_name": "Python 3"
    }
  },
  "cells": [
    {
      "cell_type": "code",
      "metadata": {
        "id": "qH1pMDJxP8pi",
        "colab_type": "code",
        "colab": {
          "base_uri": "https://localhost:8080/",
          "height": 51
        },
        "outputId": "d5c06068-1e90-4d65-a9fa-e37ee6fd9bcf"
      },
      "source": [
        "n=int(input(\"enter a number\"))\n",
        "d=0\n",
        "for i in range (1,n):\n",
        "  if (n%i==0):\n",
        "    d=d+i\n",
        "if (d==n):\n",
        "  print(\"perfect no\")\n",
        "else:\n",
        "  print(\"not a perfect no\")    "
      ],
      "execution_count": 4,
      "outputs": [
        {
          "output_type": "stream",
          "text": [
            "enter a number28\n",
            "perfect no\n"
          ],
          "name": "stdout"
        }
      ]
    },
    {
      "cell_type": "code",
      "metadata": {
        "id": "uWIjz7ojRNM5",
        "colab_type": "code",
        "colab": {}
      },
      "source": [
        ""
      ],
      "execution_count": null,
      "outputs": []
    }
  ]
}