{
  "nbformat": 4,
  "nbformat_minor": 0,
  "metadata": {
    "colab": {
      "name": "a7sumofn",
      "provenance": []
    },
    "kernelspec": {
      "name": "python3",
      "display_name": "Python 3"
    }
  },
  "cells": [
    {
      "cell_type": "code",
      "metadata": {
        "id": "x8tJIv1tJh1G",
        "colab_type": "code",
        "colab": {
          "base_uri": "https://localhost:8080/",
          "height": 51
        },
        "outputId": "f5a711a3-f261-4b74-ede9-30d45e49eb9e"
      },
      "source": [
        "n=int(input(\"enter the number\"))\n",
        "i=1\n",
        "c=0\n",
        "while (i<=n):\n",
        "  c=c+i\n",
        "  i=i+1\n",
        "print(\"the sum of first\",n,\"natural no is\",c)  \n"
      ],
      "execution_count": 3,
      "outputs": [
        {
          "output_type": "stream",
          "text": [
            "enter the number3\n",
            "the sum of first 3 natural no is 6\n"
          ],
          "name": "stdout"
        }
      ]
    },
    {
      "cell_type": "code",
      "metadata": {
        "id": "I5Cva0x_KEbb",
        "colab_type": "code",
        "colab": {}
      },
      "source": [
        "3"
      ],
      "execution_count": null,
      "outputs": []
    }
  ]
}