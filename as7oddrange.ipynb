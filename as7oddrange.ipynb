{
  "nbformat": 4,
  "nbformat_minor": 0,
  "metadata": {
    "colab": {
      "name": "as7oddrange",
      "provenance": [],
      "collapsed_sections": []
    },
    "kernelspec": {
      "name": "python3",
      "display_name": "Python 3"
    }
  },
  "cells": [
    {
      "cell_type": "code",
      "metadata": {
        "id": "2OKADPd5EPLe",
        "colab_type": "code",
        "colab": {
          "base_uri": "https://localhost:8080/",
          "height": 102
        },
        "outputId": "24b686ce-90ed-4380-ac0c-b26f5a8a72c8"
      },
      "source": [
        "x=[1,2,3,4,5]\n",
        "for i in x:\n",
        "  if (i%2!=0):\n",
        "    print(\"the odd no are\",i)\n",
        "  else:\n",
        "    print()  \n"
      ],
      "execution_count": 1,
      "outputs": [
        {
          "output_type": "stream",
          "text": [
            "the odd no are 1\n",
            "\n",
            "the odd no are 3\n",
            "\n",
            "the odd no are 5\n"
          ],
          "name": "stdout"
        }
      ]
    },
    {
      "cell_type": "code",
      "metadata": {
        "id": "0G6XUotAFJ3X",
        "colab_type": "code",
        "colab": {}
      },
      "source": [
        ""
      ],
      "execution_count": null,
      "outputs": []
    }
  ]
}