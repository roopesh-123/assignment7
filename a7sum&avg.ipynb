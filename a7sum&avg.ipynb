{
  "nbformat": 4,
  "nbformat_minor": 0,
  "metadata": {
    "colab": {
      "name": "a7sum&avg",
      "provenance": []
    },
    "kernelspec": {
      "name": "python3",
      "display_name": "Python 3"
    }
  },
  "cells": [
    {
      "cell_type": "code",
      "metadata": {
        "id": "x8tJIv1tJh1G",
        "colab_type": "code",
        "colab": {
          "base_uri": "https://localhost:8080/",
          "height": 68
        },
        "outputId": "bed2683b-3201-4bcc-ef9a-fd3cd0123774"
      },
      "source": [
        "n=int(input(\"enter the number\"))\n",
        "i=1\n",
        "c=0\n",
        "while (i<=n):\n",
        "  c=c+i\n",
        "  i=i+1\n",
        "print(\"the sum of first\",n,\"natural no is\",c)  \n",
        "d=c/n\n",
        "print(\"the avg of first\",n,\" natural no is\",d)\n"
      ],
      "execution_count": 5,
      "outputs": [
        {
          "output_type": "stream",
          "text": [
            "enter the number3\n",
            "the sum of first 3 natural no is 6\n",
            "the avg of first 3  natural no is 2.0\n"
          ],
          "name": "stdout"
        }
      ]
    },
    {
      "cell_type": "code",
      "metadata": {
        "id": "I5Cva0x_KEbb",
        "colab_type": "code",
        "colab": {}
      },
      "source": [
        "3"
      ],
      "execution_count": null,
      "outputs": []
    }
  ]
}