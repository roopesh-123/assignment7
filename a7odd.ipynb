{
  "nbformat": 4,
  "nbformat_minor": 0,
  "metadata": {
    "colab": {
      "name": "a7odd",
      "provenance": []
    },
    "kernelspec": {
      "name": "python3",
      "display_name": "Python 3"
    }
  },
  "cells": [
    {
      "cell_type": "code",
      "metadata": {
        "id": "vpjWG4fIN2vJ",
        "colab_type": "code",
        "colab": {
          "base_uri": "https://localhost:8080/",
          "height": 102
        },
        "outputId": "f2a78004-bcbb-43f4-98d3-6edbf05ebb16"
      },
      "source": [
        "n=[1,2,3,4,5]\n",
        "for x in n:\n",
        "  if (x%2!=0):\n",
        "    print(\"the odd no is\",x)\n",
        "  else:\n",
        "    print()  "
      ],
      "execution_count": 5,
      "outputs": [
        {
          "output_type": "stream",
          "text": [
            "the odd no is 1\n",
            "\n",
            "the odd no is 3\n",
            "\n",
            "the odd no is 5\n"
          ],
          "name": "stdout"
        }
      ]
    },
    {
      "cell_type": "code",
      "metadata": {
        "id": "KnHYHa_OOO6Y",
        "colab_type": "code",
        "colab": {}
      },
      "source": [
        ""
      ],
      "execution_count": null,
      "outputs": []
    }
  ]
}