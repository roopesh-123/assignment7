{
  "nbformat": 4,
  "nbformat_minor": 0,
  "metadata": {
    "colab": {
      "name": "a7evenodd",
      "provenance": []
    },
    "kernelspec": {
      "name": "python3",
      "display_name": "Python 3"
    }
  },
  "cells": [
    {
      "cell_type": "code",
      "metadata": {
        "id": "rsnJkzHTLPmg",
        "colab_type": "code",
        "colab": {
          "base_uri": "https://localhost:8080/",
          "height": 51
        },
        "outputId": "139769ad-7302-41e7-8d0e-485156325ca4"
      },
      "source": [
        "n=[1,2,3,4,5]\n",
        "even=0\n",
        "odd=0\n",
        "for i in n:\n",
        "  if (i%2==0):\n",
        "    even=even+1\n",
        "  else:\n",
        "    odd=odd+1\n",
        "print(\"the no of even no are\",even)\n",
        "print(\"the no of odd no are\",odd)\n"
      ],
      "execution_count": 1,
      "outputs": [
        {
          "output_type": "stream",
          "text": [
            "the no of even no are 2\n",
            "the no of odd no are 3\n"
          ],
          "name": "stdout"
        }
      ]
    },
    {
      "cell_type": "code",
      "metadata": {
        "id": "8GR0Ba2eL9Wu",
        "colab_type": "code",
        "colab": {}
      },
      "source": [
        ""
      ],
      "execution_count": null,
      "outputs": []
    }
  ]
}